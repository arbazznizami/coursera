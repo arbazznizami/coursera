{
 "cells": [
  {
   "cell_type": "markdown",
   "id": "f31665bf-26ea-44e8-902b-9f923c908990",
   "metadata": {},
   "source": [
    "# Data Science Tools and Ecosystem"
   ]
  },
  {
   "cell_type": "markdown",
   "id": "a822c9a9-5195-4175-b439-5322a6b8afba",
   "metadata": {},
   "source": [
    "In this notebook, Data Science Tools and Ecosystem are summarized.\n"
   ]
  },
  {
   "cell_type": "markdown",
   "id": "3e0d4025-4aa9-434e-a2d2-a0eaa0b00993",
   "metadata": {},
   "source": [
    "Some of the popular languages that Data Scientists use are: \n",
    "1. SQL \n",
    "2. R \n",
    "3. Python"
   ]
  },
  {
   "cell_type": "markdown",
   "id": "d1409a52-f199-42bc-b2aa-52e73762a74b",
   "metadata": {},
   "source": [
    "Some of the commonly used libraries used by Data Scientists include:\n",
    "1. Pandas \n",
    "2. Tensorflow\n",
    "3. Scify\n",
    "4. Keras\n",
    "5. Scikit-Learn"
   ]
  },
  {
   "cell_type": "markdown",
   "id": "06e54af6-ff53-465f-9e9f-f14e1f7ae867",
   "metadata": {},
   "source": [
    "|Data Science Tools|\n",
    "|---|\n",
    "|TensorFlow|\n",
    "|SAS|\n",
    "|Apache Hadoop|"
   ]
  },
  {
   "cell_type": "markdown",
   "id": "5261f8be-ce21-499d-93a6-a47d33bb4638",
   "metadata": {},
   "source": [
    "### Below are a few examples of evaluating arithmetic expressions in Python."
   ]
  },
  {
   "cell_type": "code",
   "execution_count": 13,
   "id": "48918c11-ad70-4acd-b023-aaf63752f6d6",
   "metadata": {},
   "outputs": [
    {
     "data": {
      "text/plain": [
       "17"
      ]
     },
     "execution_count": 13,
     "metadata": {},
     "output_type": "execute_result"
    }
   ],
   "source": [
    "#This a simple arithmetic expression to mutiply then add integers\n",
    "(3*4)+5"
   ]
  },
  {
   "cell_type": "code",
   "execution_count": 15,
   "id": "9dd7f562-aaed-406e-b68d-6d50a6bc762a",
   "metadata": {},
   "outputs": [
    {
     "data": {
      "text/plain": [
       "3.3333333333333335"
      ]
     },
     "execution_count": 15,
     "metadata": {},
     "output_type": "execute_result"
    }
   ],
   "source": [
    "#This will convert 200 minutes to hours by diving by 60\n",
    "200/60"
   ]
  },
  {
   "cell_type": "markdown",
   "id": "bc60ebd8-c750-411d-bf3b-218f58a9c62b",
   "metadata": {},
   "source": [
    "__Objective__\n",
    "* List popular data science languages\n",
    "* List popular data science libraries\n",
    "* List popular data science tools\n",
    "* Learn how to provide comments"
   ]
  },
  {
   "cell_type": "markdown",
   "id": "8473a0f0-7b4e-4ac3-90a1-61d0538e70b1",
   "metadata": {},
   "source": [
    "## Author\n",
    "Arbaz Nizami"
   ]
  }
 ],
 "metadata": {
  "kernelspec": {
   "display_name": "Python 3 (ipykernel)",
   "language": "python",
   "name": "python3"
  },
  "language_info": {
   "codemirror_mode": {
    "name": "ipython",
    "version": 3
   },
   "file_extension": ".py",
   "mimetype": "text/x-python",
   "name": "python",
   "nbconvert_exporter": "python",
   "pygments_lexer": "ipython3",
   "version": "3.12.5"
  }
 },
 "nbformat": 4,
 "nbformat_minor": 5
}
